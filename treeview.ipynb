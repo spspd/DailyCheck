{
 "cells": [
  {
   "cell_type": "code",
   "execution_count": 9,
   "metadata": {},
   "outputs": [
    {
     "name": "stdout",
     "output_type": "stream",
     "text": [
      "('A', '65')\n",
      "('B', '66')\n",
      "('C', '67')\n",
      "('D', '68')\n",
      "('E', '69')\n",
      "\n",
      "{'text': '5-1', 'image': '', 'values': ['NUL', 0], 'open': 0, 'tags': ['tag2']}\n",
      "{'text': '5-2', 'image': '', 'values': ['SOH', 1], 'open': 0, 'tags': ''}\n",
      "{'text': '5-3', 'image': '', 'values': ['STX', 2], 'open': 0, 'tags': ['tag2']}\n"
     ]
    }
   ],
   "source": [
    "import tkinter\n",
    "import tkinter.ttk\n",
    "\n",
    "window=tkinter.Tk()\n",
    "window.title(\"YUN DAE HEE\")\n",
    "window.geometry(\"640x400+100+100\")\n",
    "window.resizable(False, False)\n",
    "\n",
    "def cc(self):\n",
    "    treeview.tag_configure(\"tag2\", background=\"red\")\n",
    "\n",
    "treeview=tkinter.ttk.Treeview(window, columns=[\"one\", \"two\"], displaycolumns=[\"two\", \"one\"])\n",
    "treeview.pack()\n",
    "\n",
    "treeview.column(\"#0\", width=70)\n",
    "treeview.heading(\"#0\", text=\"num\")\n",
    "\n",
    "treeview.column(\"one\", width=100, anchor=\"center\")\n",
    "treeview.heading(\"one\", text=\"문자\", anchor=\"e\")\n",
    "\n",
    "treeview.column(\"#2\", width=100, anchor=\"w\")\n",
    "treeview.heading(\"two\", text=\"ASCII\", anchor=\"center\")\n",
    "\n",
    "treelist=[(\"A\", 65), (\"B\", 66), (\"C\", 67), (\"D\", 68), (\"E\", 69)]\n",
    "\n",
    "for i in range(len(treelist)):\n",
    "    \n",
    "    treeview.insert('', 'end', text=i, values=treelist[i], iid=str(i)+\"번\")\n",
    "\n",
    "top=treeview.insert('', 'end', text=str(len(treelist)), iid=\"5번\", tags=\"tag1\")\n",
    "top_mid1=treeview.insert(top, 'end', text=\"5-2\", values=[\"SOH\", 1], iid=\"5번-1\")\n",
    "top_mid2=treeview.insert(top, 0, text=\"5-1\", values=[\"NUL\", 0], iid=\"5번-0\", tags=\"tag2\")\n",
    "top_mid3=treeview.insert(top, 'end', text=\"5-3\", values=[\"STX\", 2], iid=\"5번-2\", tags=\"tag2\")\n",
    "\n",
    "treeview.tag_bind(\"tag1\", sequence=\"<<TreeviewSelect>>\", callback=cc)\n",
    "\n",
    "for i in treeview.get_children():\n",
    "    print(treeview.item(i,\"values\"))\n",
    "    for j in treeview.get_children(i):\n",
    "        print(treeview.item(j))\n",
    "\n",
    "window.mainloop()"
   ]
  },
  {
   "cell_type": "code",
   "execution_count": 6,
   "metadata": {},
   "outputs": [
    {
     "name": "stdout",
     "output_type": "stream",
     "text": [
      "()\n"
     ]
    },
    {
     "name": "stderr",
     "output_type": "stream",
     "text": [
      "Exception in Tkinter callback\n",
      "Traceback (most recent call last):\n",
      "  File \"/Users/gyuminkim/opt/anaconda3/lib/python3.9/tkinter/__init__.py\", line 1892, in __call__\n",
      "    return self.func(*args)\n",
      "  File \"/var/folders/70/_hzcc9qj1mxg_7j88td07_200000gn/T/ipykernel_21532/3113566188.py\", line 47, in tv_btn\n",
      "    print(treeview[0])\n",
      "  File \"/Users/gyuminkim/opt/anaconda3/lib/python3.9/tkinter/__init__.py\", line 1652, in cget\n",
      "    return self.tk.call(self._w, 'cget', '-' + key)\n",
      "TypeError: can only concatenate str (not \"int\") to str\n"
     ]
    },
    {
     "name": "stdout",
     "output_type": "stream",
     "text": [
      "()\n"
     ]
    },
    {
     "name": "stderr",
     "output_type": "stream",
     "text": [
      "Exception in Tkinter callback\n",
      "Traceback (most recent call last):\n",
      "  File \"/Users/gyuminkim/opt/anaconda3/lib/python3.9/tkinter/__init__.py\", line 1892, in __call__\n",
      "    return self.func(*args)\n",
      "  File \"/var/folders/70/_hzcc9qj1mxg_7j88td07_200000gn/T/ipykernel_21532/3113566188.py\", line 47, in tv_btn\n",
      "    print(treeview[0])\n",
      "  File \"/Users/gyuminkim/opt/anaconda3/lib/python3.9/tkinter/__init__.py\", line 1652, in cget\n",
      "    return self.tk.call(self._w, 'cget', '-' + key)\n",
      "TypeError: can only concatenate str (not \"int\") to str\n"
     ]
    },
    {
     "name": "stdout",
     "output_type": "stream",
     "text": [
      "()\n"
     ]
    },
    {
     "name": "stderr",
     "output_type": "stream",
     "text": [
      "Exception in Tkinter callback\n",
      "Traceback (most recent call last):\n",
      "  File \"/Users/gyuminkim/opt/anaconda3/lib/python3.9/tkinter/__init__.py\", line 1892, in __call__\n",
      "    return self.func(*args)\n",
      "  File \"/var/folders/70/_hzcc9qj1mxg_7j88td07_200000gn/T/ipykernel_21532/3113566188.py\", line 47, in tv_btn\n",
      "    print(treeview[0])\n",
      "  File \"/Users/gyuminkim/opt/anaconda3/lib/python3.9/tkinter/__init__.py\", line 1652, in cget\n",
      "    return self.tk.call(self._w, 'cget', '-' + key)\n",
      "TypeError: can only concatenate str (not \"int\") to str\n"
     ]
    }
   ],
   "source": [
    "#sub FUll treeview\n",
    "\n",
    "import tkinter\n",
    "import tkinter.ttk\n",
    "\n",
    "window=tkinter.Tk()\n",
    "window.title(\"Maple\")\n",
    "window.geometry(\"820x400+100+100\")\n",
    "window.resizable(False, False)\n",
    "\n",
    "\n",
    "treeview=tkinter.ttk.Treeview(window, columns=[\"one\",\"two\", \"three\"], displaycolumns=[\"one\",\"two\", \"three\"])\n",
    "treeview.grid(row=1, column=0,columnspan=6)\n",
    "\n",
    "treeview.column(\"#0\", width=50)\n",
    "treeview.heading(\"#0\", text=\"#\")\n",
    "\n",
    "treeview.column(\"one\", width=190)\n",
    "treeview.heading(\"one\", text=\"ID\")\n",
    "\n",
    "treeview.column(\"two\", width=250, anchor=\"center\")\n",
    "treeview.heading(\"two\", text=\"문자\", anchor=\"e\")\n",
    "\n",
    "treeview.column(\"three\", width=250, anchor=\"w\")\n",
    "treeview.heading(\"three\", text=\"ASCII\", anchor=\"center\")\n",
    "\n",
    "def treeview_check(temp):\n",
    "    for i in treeview.get_children(temp):\n",
    "        print(treeview.item(i))\n",
    "        \n",
    "\n",
    "\n",
    "def print_tv():\n",
    "    for i in treeview.get_children():\n",
    "        print(treeview.item(i))\n",
    "        for j in treeview.get_children(i):\n",
    "            print(\"/\",end=\"\") # 그 내부가 있을수도 있다. \n",
    "            print(+treeview.item(j))\n",
    "\n",
    "# label + btn\n",
    "label = tkinter.Label(window, text=\"출력\", width=10, height=1)\n",
    "label.grid(row=0, column=0,columnspan=5)\n",
    "\n",
    "def tv_btn():\n",
    "    print(treeview.selection())\n",
    "    temp = treeview.selection()\n",
    "    print(treeview.item)\n",
    "    treeview.insert(temp, 'end', text=treeview.index(temp), values=[entry2.get(), entry3.get(),entry4.get()])\n",
    "    treeview.item(temp,open=True)\n",
    "def tv_btn_remove():\n",
    "    print(treeview.selection())\n",
    "    temp = treeview.selection()\n",
    "    treeview.delete(temp)\n",
    "\n",
    "        \n",
    "entryset1 = 13\n",
    "entry1=tkinter.Entry(window,width = entryset1)\n",
    "entry2=tkinter.Entry(window,width = entryset1)\n",
    "entry3=tkinter.Entry(window,width = entryset1)\n",
    "entry4=tkinter.Entry(window,width = entryset1)\n",
    "\n",
    "entry1.grid(row=2, column=0)\n",
    "entry2.grid(row=2, column=1)\n",
    "entry3.grid(row=2, column=2)\n",
    "entry4.grid(row=2, column=3)\n",
    "\n",
    "btn1 = tkinter.Button(window,text=\"add\",  width=10, command=tv_btn, repeatdelay=1000, repeatinterval=100)\n",
    "btn2 = tkinter.Button(window,text=\"remove\",  width=10, command=tv_btn_remove, repeatdelay=1000, repeatinterval=100)\n",
    "btn3 = tkinter.Button(window,text=\"print\",  width=10, command=print_tv, repeatdelay=1000, repeatinterval=100)\n",
    "btn1.grid(row=2, column=4)\n",
    "btn2.grid(row=2, column=5)\n",
    "btn3.grid(row=0, column=5)\n",
    "\n",
    "window.mainloop()"
   ]
  }
 ],
 "metadata": {
  "interpreter": {
   "hash": "ccac4339afc9d56f3f767087fbfe9611afd015d70ca2849a70c0f180d153e152"
  },
  "kernelspec": {
   "display_name": "Python 3.9.7 ('base')",
   "language": "python",
   "name": "python3"
  },
  "language_info": {
   "codemirror_mode": {
    "name": "ipython",
    "version": 3
   },
   "file_extension": ".py",
   "mimetype": "text/x-python",
   "name": "python",
   "nbconvert_exporter": "python",
   "pygments_lexer": "ipython3",
   "version": "3.9.7"
  },
  "orig_nbformat": 4
 },
 "nbformat": 4,
 "nbformat_minor": 2
}
