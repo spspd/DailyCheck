{
 "cells": [
  {
   "cell_type": "code",
   "execution_count": 9,
   "metadata": {},
   "outputs": [
    {
     "name": "stdout",
     "output_type": "stream",
     "text": [
      "\n",
      "\n",
      "\n",
      "\n"
     ]
    }
   ],
   "source": []
  },
  {
   "cell_type": "code",
   "execution_count": 1,
   "metadata": {},
   "outputs": [],
   "source": [
    "#!/usr/bin/python3\n",
    "import tkinter as tk\n",
    "import tkinter.ttk as ttk\n",
    "\n",
    "\n",
    "class NewprojectApp:\n",
    "    def __init__(self, master=None):\n",
    "        # build ui\n",
    "        self.frame1 = ttk.Frame(master)\n",
    "        self.treeview1 = ttk.Treeview(self.frame1)\n",
    "        self.treeview1.pack(anchor=\"n\", expand=\"true\", ipady=\"70\", side=\"left\")\n",
    "        self.frame2 = ttk.Frame(self.frame1)\n",
    "        self.label2 = ttk.Label(self.frame2)\n",
    "        self.label2.configure(anchor=\"center\", text=\"title\", width=\"20\")\n",
    "        self.label2.grid(column=\"0\", row=\"0\", sticky=\"w\")\n",
    "        self.button3 = ttk.Button(self.frame2)\n",
    "        self.button3.configure(text=\"save\")\n",
    "        self.button3.grid(column=\"1\", row=\"0\", sticky=\"e\")\n",
    "        self.text1 = tk.Text(self.frame2)\n",
    "        self.text1.configure(height=\"25\", width=\"50\")\n",
    "        self.text1.grid(column=\"0\", columnspan=\"3\", row=\"1\")\n",
    "        self.button4 = ttk.Button(self.frame2)\n",
    "        self.button4.configure(text=\"load\")\n",
    "        self.button4.grid(column=\"2\", row=\"0\", sticky=\"e\")\n",
    "        self.frame2.configure(height=\"480\", width=\"480\")\n",
    "        self.frame2.pack(side=\"right\")\n",
    "        self.frame2.grid_propagate(0)\n",
    "        self.frame1.configure(height=\"480\", width=\"480\")\n",
    "        self.frame1.pack(side=\"top\")\n",
    "\n",
    "        \n",
    "        \n",
    "        # Main widget\n",
    "        self.mainwindow = self.frame1\n",
    "\n",
    "    def run(self):\n",
    "        self.mainwindow.mainloop()\n",
    "\n",
    "\n",
    "root = tk.Tk()\n",
    "app = NewprojectApp(root)\n",
    "app.run()\n",
    "\n"
   ]
  }
 ],
 "metadata": {
  "interpreter": {
   "hash": "31f2aee4e71d21fbe5cf8b01ff0e069b9275f58929596ceb00d14d90e3e16cd6"
  },
  "kernelspec": {
   "display_name": "Python 3.8.9 64-bit",
   "language": "python",
   "name": "python3"
  },
  "language_info": {
   "codemirror_mode": {
    "name": "ipython",
    "version": 3
   },
   "file_extension": ".py",
   "mimetype": "text/x-python",
   "name": "python",
   "nbconvert_exporter": "python",
   "pygments_lexer": "ipython3",
   "version": "3.9.7"
  },
  "orig_nbformat": 4
 },
 "nbformat": 4,
 "nbformat_minor": 2
}
